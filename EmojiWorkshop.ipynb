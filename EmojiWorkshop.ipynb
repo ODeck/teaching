{
 "cells": [
  {
   "cell_type": "markdown",
   "id": "d97ff7af",
   "metadata": {},
   "source": [
    "# Henne oder Ei\n",
    "\n",
    "## Mentimeter Umfrage\n",
    "\n",
    "## Emoji vs. Emoticon\n",
    "\n",
    "## Wie kommen Zeichen in den Computer (und wieder raus)\n",
    "\n",
    "### Binär\n",
    "### ASCII\n",
    "### ISO\n",
    "### Unicode\n",
    "### UTF-8\n",
    "\n",
    "\n",
    "\n",
    "\n",
    "## Wer entscheidet welche Emojis?\n",
    "- Unicode Konsortium und Ablauf\n",
    "- https://unicode.org/emoji/proposals.html\n",
    "## Wer entscheidet wie Emojis aussehen?\n",
    "- Softwarefirmen (Apple, Google, Android, Microsoft, Element, Whatsapp, etc.)\n",
    "### Emojis die nicht angezeigt werden (Kasten , Country Names, \\u codes)\n",
    "\n",
    "## Wer entscheidet was Emojis bedeuten?\n",
    "- Studien zu Rezeption\n",
    "\n",
    "\n",
    "## Python experimente\n",
    "- Was ist Python\n",
    "- Hello World\n",
    "- String Methoden / Funktionen\n",
    "- emoji library"
   ]
  }
 ],
 "metadata": {
  "language_info": {
   "name": "python"
  }
 },
 "nbformat": 4,
 "nbformat_minor": 5
}
